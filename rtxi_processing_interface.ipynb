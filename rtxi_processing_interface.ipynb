{
 "cells": [
  {
   "cell_type": "markdown",
   "metadata": {},
   "source": [
    "#### 1. Load functions from load_h5.py\n",
    "\n",
    "The function needed to import and analyze RTXI h5 files in Python are saved in the file **load_h5.py**. Use the code below to load them into this notebook."
   ]
  },
  {
   "cell_type": "code",
   "execution_count": null,
   "metadata": {},
   "outputs": [],
   "source": [
    "from load_h5 import *"
   ]
  },
  {
   "cell_type": "markdown",
   "metadata": {},
   "source": [
    "#### 2. Set the file name and trial number\n",
    "\n",
    "In the current directory, create a folder called **data** and copy your .h5 file into this folder. Once you've done that, change the `filename` variable in the code below to the name of your file in the **data** folder (it should end in **.h5**) as follows:\n",
    "```\n",
    "'YOUR_FILE_NAME.h5'\n",
    "```\n",
    "\n",
    "Set the `trial_number` variable to an integer that corresponds to your desired trial number. If you don't know your trial number, try a few out, starting from 1 and counting up. The code below will print the tags and plot voltage/current curves for the given trial. You can adjust the `trial_number` variable until you find the data you want."
   ]
  },
  {
   "cell_type": "code",
   "execution_count": null,
   "metadata": {},
   "outputs": [],
   "source": [
    "filename = 'attempt_2_071519.h5'\n",
    "trial_number = 3\n",
    "does_plot = True\n",
    "recorded_data = load_recorded_data(filename, trial_number, does_plot)"
   ]
  },
  {
   "cell_type": "markdown",
   "metadata": {},
   "source": [
    "#### 3. Get information on the data\n",
    "\n",
    "The first block of code will create a DataFrame with lots of usefull information on the entire data set. If you've already run this code on the current data set, you can lode the DataFrame with the second block of code. The data table will be saved to the variable `everything`. It will also be saved to a new file in the **data** folder. Change `filename` to the what you would like the new file to be named."
   ]
  },
  {
   "cell_type": "code",
   "execution_count": null,
   "metadata": {},
   "outputs": [],
   "source": [
    "filename = 'sap_summary_data'\n",
    "everything = get_everything(recorded_data, filename)"
   ]
  },
  {
   "cell_type": "code",
   "execution_count": null,
   "metadata": {},
   "outputs": [],
   "source": [
    "filename = 'sap_summary_data'\n",
    "everything = load_everything_dataframe(filename)"
   ]
  },
  {
   "cell_type": "markdown",
   "metadata": {},
   "source": [
    "#### 4. Get classes\n",
    "\n",
    "After creating the data table, you can use it to find what kinds of action potentials are in your data. The code below will tell you how many APs of each class are in your data."
   ]
  },
  {
   "cell_type": "code",
   "execution_count": null,
   "metadata": {},
   "outputs": [],
   "source": [
    "does_plot = True\n",
    "class_tags = get_class_tags(recorded_data, everything, does_plot)"
   ]
  },
  {
   "cell_type": "markdown",
   "metadata": {},
   "source": [
    "#### 5. Get all single action potentials\n",
    "\n",
    "If you already have the data table with information on every action potential, you can quickly get a list of the DataFrame of every action potential with the code below. The list will be saved to the variable `all_saps`."
   ]
  },
  {
   "cell_type": "code",
   "execution_count": null,
   "metadata": {},
   "outputs": [],
   "source": [
    "all_saps = get_saps_from_data_table(recorded_data, everything)"
   ]
  },
  {
   "cell_type": "markdown",
   "metadata": {},
   "source": [
    "#### 6. Graph a column in the DataFrame\n",
    "\n",
    "This function will plot one column from the DataFrame. Set `column` equal to the column you want to plot (`'cycle lengths'`, `'diastolic intervals'`, `'duration 30'`, `'duration 40'`, `'duration 70'`, `'duration 80'`, `'duration 90'`, `'amplitude'`, `'mdp'`, `'shape factor'`, or `'dv/dt max'`)."
   ]
  },
  {
   "cell_type": "code",
   "execution_count": null,
   "metadata": {},
   "outputs": [],
   "source": [
    "column = 'diastolic intervals'\n",
    "graph_column(everything, column)"
   ]
  }
 ],
 "metadata": {
  "kernelspec": {
   "display_name": "Python 3",
   "language": "python",
   "name": "python3"
  },
  "language_info": {
   "codemirror_mode": {
    "name": "ipython",
    "version": 3
   },
   "file_extension": ".py",
   "mimetype": "text/x-python",
   "name": "python",
   "nbconvert_exporter": "python",
   "pygments_lexer": "ipython3",
   "version": "3.7.3"
  }
 },
 "nbformat": 4,
 "nbformat_minor": 2
}
