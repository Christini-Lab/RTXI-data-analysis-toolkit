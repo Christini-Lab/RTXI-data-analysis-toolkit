{
 "cells": [
  {
   "cell_type": "markdown",
   "metadata": {},
   "source": [
    "## Tool for processing RTXI single action potential data\n",
    "\n",
    "The program below will allow you to easily visualize RTXI single action potential data. It will also create and save a **.csv** file into your **data** folder with a row with information on each action potential in the data. The columns in the **.csv** file are as follows:\n",
    "- **Start:** The index location of the start of each action potential.\n",
    "- **End:** The index location of the end of each action potential.\n",
    "- **Class:** Whether an action potential is spontaneous or not and, if non-spontaneous, the frequency at which this action potential was paced.\n",
    "- **Cycle Lengths (s):** The cycle length, in seconds, of each action potential.\n",
    "- **Diastolic Intervals pre-AP (s):** The diastolic interval, in seconds, leading up to each non-spontaneous action potential. If an action potential is spontaneous, this column will be blank.\n",
    "- **Duration X% (s):** The duration, in seconds, of each action potential at a repolarization percent of X.\n",
    "- **Amplitude (V):** The amplitude, in volts, of each action potential.\n",
    "- **MDP (V):** The maximum diastolic potential, in volts, of each action potential.\n",
    "- **Shape Factor:** The shape factor of each action potential.\n",
    "- **dv/dt Max (V/s):** The maximum upstroke velocity, in volts per second, of each action potential.\n",
    "\n",
    "To visualize the data and create the **.csv** file, follow the steps below."
   ]
  },
  {
   "cell_type": "markdown",
   "metadata": {},
   "source": [
    "### 1. Load functions from load_h5.py\n",
    "\n",
    "The functions needed to import and analyze RTXI h5 files in Python are saved in the file **load_h5.py**. Use the code below to load them into this notebook."
   ]
  },
  {
   "cell_type": "code",
   "execution_count": null,
   "metadata": {},
   "outputs": [],
   "source": [
    "from load_h5 import *"
   ]
  },
  {
   "cell_type": "markdown",
   "metadata": {},
   "source": [
    "### 2. Load your trial data\n",
    "\n",
    "In the current directory, create a folder called **data** and copy your .h5 file into this folder. Once you've done that, change the `filename` variable in the code below to the name of your file in the **data** folder (it should end in **.h5**) as follows:\n",
    "```\n",
    "'YOUR_FILE_NAME.h5'\n",
    "```\n",
    "\n",
    "Set the `trial_number` variable to an integer that corresponds to your desired trial number. If you don't know your trial number, try a few out, starting from 1 and counting up. The code below will save the data to the variable `recorded_data`. You can adjust the `trial_number` variable until you find the data you want. If you want it to print the tags and plot the voltage/current curves for the given trial, set `does_plot` to `True`."
   ]
  },
  {
   "cell_type": "code",
   "execution_count": null,
   "metadata": {},
   "outputs": [],
   "source": [
    "filename = 'attempt_2_071519.h5'\n",
    "trial_number = 3\n",
    "does_plot = True\n",
    "recorded_data = load_recorded_data(filename, trial_number, does_plot)"
   ]
  },
  {
   "cell_type": "markdown",
   "metadata": {},
   "source": [
    "### 3. Calculate and save action potential features\n",
    "\n",
    "If you've already run the `get_ap_features` function on the current data set, do part **B**. If not, do part **A**.\n",
    "#### A.\n",
    "The code below will create a DataFrame with lots of useful information on the entire data set. The DataFrame will be saved to the variable `ap_features`. It will also be saved to a new file in the **data** folder. Change `filename` to what you would like the new file to be named."
   ]
  },
  {
   "cell_type": "code",
   "execution_count": null,
   "metadata": {},
   "outputs": [],
   "source": [
    "filename = 'trial_3_data'\n",
    "ap_features = get_ap_features(recorded_data, filename)"
   ]
  },
  {
   "cell_type": "markdown",
   "metadata": {},
   "source": [
    "#### B.\n",
    "\n",
    "The function below will load the saved DataFrame with the features of your data set. The DataFrame will be saved to the variable `ap_features`. Change `filename` to the name of the file your DataFrame is saved to."
   ]
  },
  {
   "cell_type": "code",
   "execution_count": null,
   "metadata": {},
   "outputs": [],
   "source": [
    "filename = 'trial_3_data'\n",
    "ap_features = load_ap_features(filename)"
   ]
  },
  {
   "cell_type": "markdown",
   "metadata": {},
   "source": [
    "### 4. Summarize action potentials by frequency\n",
    "\n",
    "After creating the data table, you can use it to find what kinds of action potentials are in your data. The code below will tell you how many APs of each class are in your data. Set `does_plot` to `True` if you would also like it to plot one action potential from each class."
   ]
  },
  {
   "cell_type": "code",
   "execution_count": null,
   "metadata": {},
   "outputs": [],
   "source": [
    "does_plot = True\n",
    "class_tags = get_class_tags(recorded_data, ap_features, does_plot)"
   ]
  },
  {
   "cell_type": "markdown",
   "metadata": {},
   "source": [
    "### 5. Plot all single action potentials and features\n",
    "\n",
    "This function below will create an interactive plot of all the action potentials with a slider labeled **ap_number**. Move the slider to plot different action potentials in the data. You can use the **feature** dropdown menu to select different features of the action potentials, or just look at the action potentials themselves."
   ]
  },
  {
   "cell_type": "code",
   "execution_count": null,
   "metadata": {},
   "outputs": [],
   "source": [
    "graph_sap_features_interact(ap_features, recorded_data)"
   ]
  },
  {
   "cell_type": "markdown",
   "metadata": {},
   "source": [
    "### 6. Graph action potential features\n",
    "\n",
    "This function will plot information across the entire DataFrame. Use the **feature** dropdown menu to select the feature of the action potentials you want to plot."
   ]
  },
  {
   "cell_type": "code",
   "execution_count": null,
   "metadata": {
    "scrolled": false
   },
   "outputs": [],
   "source": [
    "graph_column_interact(ap_features)"
   ]
  }
 ],
 "metadata": {
  "kernelspec": {
   "display_name": "Python 3",
   "language": "python",
   "name": "python3"
  },
  "language_info": {
   "codemirror_mode": {
    "name": "ipython",
    "version": 3
   },
   "file_extension": ".py",
   "mimetype": "text/x-python",
   "name": "python",
   "nbconvert_exporter": "python",
   "pygments_lexer": "ipython3",
   "version": "3.7.3"
  }
 },
 "nbformat": 4,
 "nbformat_minor": 2
}
