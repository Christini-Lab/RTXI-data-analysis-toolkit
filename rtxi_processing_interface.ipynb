{
 "cells": [
  {
   "cell_type": "markdown",
   "metadata": {},
   "source": [
    "#### 1. Load functions from load_h5.py\n",
    "\n",
    "The function needed to import and analyze RTXI h5 files in Python are saved in the file **load_h5.py**. Use the code below to load them into this notebook."
   ]
  },
  {
   "cell_type": "code",
   "execution_count": null,
   "metadata": {},
   "outputs": [],
   "source": [
    "from load_h5 import *"
   ]
  },
  {
   "cell_type": "markdown",
   "metadata": {},
   "source": [
    "#### 2. Set the file name and trial number\n",
    "\n",
    "In the current directory, create a folder called **data** and copy your .h5 file into this folder. Once you've done that, change the `filename` variable in the code below to the name of your file in the **data** folder (it should end in **.h5**) as follows:\n",
    "```\n",
    "'YOUR_FILE_NAME.h5'\n",
    "```\n",
    "\n",
    "Set the `trial_number` variable to an integer that corresponds to your desired trial number. If you don't know your trial number, try a few out, starting from 1 and counting up. The code below will print the tags and plot voltage/current curves for the given trial. You can adjust the `trial_number` variable until you find the data you want."
   ]
  },
  {
   "cell_type": "code",
   "execution_count": null,
   "metadata": {},
   "outputs": [],
   "source": [
    "filename = 'attempt_2_071519.h5'\n",
    "trial_number = 3\n",
    "does_plot = True\n",
    "recorded_data = load_recorded_data(filename, trial_number, does_plot)"
   ]
  },
  {
   "cell_type": "markdown",
   "metadata": {},
   "source": [
    "#### 3. Get information on the data\n",
    "\n",
    "The first block of code will create a DataFrame with lots of usefull information on the entire data set. If you've already run this code on the current data set, you can lode the DataFrame with the second block of code. The data table will be saved to the variable `ap_features`. It will also be saved to a new file in the **data** folder. Change `filename` to the what you would like the new file to be named."
   ]
  },
  {
   "cell_type": "code",
   "execution_count": null,
   "metadata": {},
   "outputs": [],
   "source": [
    "filename = 'sap_summary_data'\n",
    "ap_features = get_ap_features(recorded_data, filename)"
   ]
  },
  {
   "cell_type": "code",
   "execution_count": null,
   "metadata": {},
   "outputs": [],
   "source": [
    "filename = 'sap_summary_data'\n",
    "ap_features = load_ap_features(filename)"
   ]
  },
  {
   "cell_type": "markdown",
   "metadata": {},
   "source": [
    "#### 4. Get classes\n",
    "\n",
    "After creating the data table, you can use it to find what kinds of action potentials are in your data. The code below will tell you how many APs of each class are in your data."
   ]
  },
  {
   "cell_type": "code",
   "execution_count": null,
   "metadata": {},
   "outputs": [],
   "source": [
    "does_plot = True\n",
    "class_tags = get_class_tags(recorded_data, ap_features, does_plot)"
   ]
  },
  {
   "cell_type": "markdown",
   "metadata": {},
   "source": [
    "#### 5. Plot all single action potentials\n",
    "\n",
    "This function below will first make a list containing the DataFrame for every action potential and save it to `all_saps`. It will then create an interactive plot of the action potentials with a slider. Move the slider to plot different action potentials in the data."
   ]
  },
  {
   "cell_type": "code",
   "execution_count": null,
   "metadata": {},
   "outputs": [],
   "source": [
    "all_saps = get_saps_from_data_table(recorded_data, ap_features)\n",
    "x = plot_sap_slider(all_saps)"
   ]
  },
  {
   "cell_type": "markdown",
   "metadata": {},
   "source": [
    "#### 6. Graph information from the DataFrame\n",
    "\n",
    "This function will plot information across the entire DataFrame. Use the **feature** dropdown menu to select the feature of the action potentials you want to plot."
   ]
  },
  {
   "cell_type": "code",
   "execution_count": null,
   "metadata": {},
   "outputs": [],
   "source": [
    "graph_column_interact(ap_features)"
   ]
  }
 ],
 "metadata": {
  "kernelspec": {
   "display_name": "Python 3",
   "language": "python",
   "name": "python3"
  },
  "language_info": {
   "codemirror_mode": {
    "name": "ipython",
    "version": 3
   },
   "file_extension": ".py",
   "mimetype": "text/x-python",
   "name": "python",
   "nbconvert_exporter": "python",
   "pygments_lexer": "ipython3",
   "version": "3.7.3"
  }
 },
 "nbformat": 4,
 "nbformat_minor": 2
}
