{
 "cells": [
  {
   "cell_type": "markdown",
   "metadata": {},
   "source": [
    "## Importing RTXI H5 files into Python\n",
    "\n",
    "This Python notebook uses functions from **load_h5.py** to load RTXI data and process it into an easy-to-handle Python format. The **load_h5** module includes features to find single potentials, and save them to .csv files located at: **./data/{rtxi_filename}/{ap_label}.csv**.\n",
    "\n",
    "If you're interested in the implementation of the functions below, open **load_h5.py**. \n",
    "\n",
    "Let me know if you want to make changes/additions to **load_h5.py**, so we can setup a collaborative workflow using GitHub.\n",
    "\n",
    "#### 1. Load Functions from load_h5.py\n",
    "\n",
    "This Jupyter Notebook is in a directory that includes a file called **load_h5.py**. The **load_h5.py** file contains a few custom functions that I wrote to process the RTXI H5 file. Below, I use Python's `import` statement in the line `from load_h5 import *` to import all the functions from **load_h5.py**. "
   ]
  },
  {
   "cell_type": "code",
   "execution_count": 1,
   "metadata": {
    "scrolled": false
   },
   "outputs": [],
   "source": [
    "from load_h5 import * #file developed by me plot_all_channels(recorded_data)"
   ]
  },
  {
   "cell_type": "markdown",
   "metadata": {},
   "source": [
    "#### 2. Set the file name and trial number\n",
    "\n",
    "In the current directory, there should be a folder called **/data**. If you have not done so already, copy your .h5 file into this folder. Once you've done that, change the `filename` variable in the code below to:\n",
    "```\n",
    "filename='data/YOUR_FILE_NAME.h5'\n",
    "```\n",
    "\n",
    "Set the `trial_number` variable to an integer that corresponds to your desired trial number. If you don't know your trial number, try a few out, starting from 1 and counting up. The code below will print the tags and plot voltage/current curves for the given trial. You can adjust the `trial_number` variable until you find the data you want."
   ]
  },
  {
   "cell_type": "code",
   "execution_count": 2,
   "metadata": {
    "scrolled": false
   },
   "outputs": [
    {
     "name": "stdout",
     "output_type": "stream",
     "text": [
      "         Time    Description\n",
      "0   29.855626        IK1_sf1\n",
      "1   67.863612  pacing_pt5_hz\n",
      "2  166.199081    pacing_1_hz\n",
      "3  254.558795  pacing_pt5_hz\n"
     ]
    },
    {
     "data": {
      "image/png": "[encoded data removed]",
      "text/plain": [
       "<Figure size 432x288 with 2 Axes>"
      ]
     },
     "metadata": {
      "needs_background": "light"
     },
     "output_type": "display_data"
    }
   ],
   "source": [
    "#Set the path and trial\n",
    "filename='data/attempt_2_071519.h5'\n",
    "trial_number=3\n",
    "f=load_h5(filename)\n",
    "\n",
    "recorded_data=get_exp_as_df(f,trial_number)\n",
    "tags=get_tags(f,trial_number)\n",
    "\n",
    "print(tags)\n",
    "plot_V_and_I(recorded_data)"
   ]
  },
  {
   "cell_type": "markdown",
   "metadata": {},
   "source": [
    "#### 3. Search for a single action potential\n",
    "\n",
    "The code below opens a figure with Voltage and current plots. Use the magnifying glass to zoom in on the data. Once your zoomed in, you can eyeball the start and end times of an action potential. Use these times for extraction single action potential data, in the next step."
   ]
  },
  {
   "cell_type": "code",
   "execution_count": null,
   "metadata": {
    "scrolled": false
   },
   "outputs": [],
   "source": [
    "%matplotlib notebook\n",
    "plot_V_and_I(recorded_data)"
   ]
  },
  {
   "cell_type": "markdown",
   "metadata": {},
   "source": [
    "#### 4. Plot the single action potential\n",
    "\n",
    "Set `subsample_start` and `subsample_end` to the start and end times of your single action potential. The code will use these times to extract the single action potential data, save it to a variable called`single_ap`, and plot it."
   ]
  },
  {
   "cell_type": "code",
   "execution_count": null,
   "metadata": {
    "scrolled": false
   },
   "outputs": [],
   "source": [
    "subsample_start=5.5\n",
    "subsample_end=6.5\n",
    "single_ap=subsample_data(recorded_data,subsample_start,subsample_end)\n",
    "\n",
    "%matplotlib inline\n",
    "plot_V_and_I(single_ap)"
   ]
  },
  {
   "cell_type": "markdown",
   "metadata": {},
   "source": [
    "#### 5. Save the action potential\n",
    "\n",
    "The code below will save the current action potential to a file with the following path:\n",
    "\n",
    "```\n",
    "./data/{RTXI_FILENAME}/sap_{NUMBER}_qq_{LABEL}.csv\n",
    "```\n",
    "\n",
    "The bracketed, all-caps words in this path may vary. So what do they mean:\n",
    "- `{RTXI_FILENAME}` &mdash; automatically extracted from the original `filename` variable.\n",
    "- `{NUMBER}` &mdash; automatically set based on the number of action potentials that have been saved for the given dataset. The first action potential is set to 1.\n",
    "- `{LABEL}` &mdash; This is manually set by changing the `label` variable. You do not need to set `{LABEL}`. By default it is left blank. It's purpose is so the user can create some reminder for themselves."
   ]
  },
  {
   "cell_type": "code",
   "execution_count": null,
   "metadata": {
    "scrolled": false
   },
   "outputs": [],
   "source": [
    "label=''\n",
    "is_returned=False\n",
    "save_SAP_to_csv(filename,single_ap,is_returned,label)"
   ]
  },
  {
   "cell_type": "markdown",
   "metadata": {},
   "source": [
    "#### 6. Plot all action potentials\n",
    "\n",
    "The `plot_all_aps()` function below will plot all APs that are saved to the `./data/{RTXI_FILENAME}/` folder."
   ]
  },
  {
   "cell_type": "code",
   "execution_count": null,
   "metadata": {
    "scrolled": false
   },
   "outputs": [],
   "source": [
    "plot_all_aps(filename)"
   ]
  },
  {
   "cell_type": "markdown",
   "metadata": {},
   "source": [
    "#### 7. Delete saved action potentials\n",
    "\n",
    "If you want to delete the action potentials that you saved, navigate to `./data/{RTXI_FILENAME}/` and select the files you would like to delete."
   ]
  },
  {
   "cell_type": "markdown",
   "metadata": {},
   "source": [
    "#### 8. Get information on the data\n",
    "\n",
    "The first block of code will create a DataFrame with lots of usefull information on the entire data set. If you've already run this code on the current data set, you can lode the dataframe with the second block of code. The data table will be saved to the variable `everything`."
   ]
  },
  {
   "cell_type": "code",
   "execution_count": 33,
   "metadata": {},
   "outputs": [],
   "source": [
    "everything = get_everything(recorded_data)"
   ]
  },
  {
   "cell_type": "code",
   "execution_count": 9,
   "metadata": {},
   "outputs": [],
   "source": [
    "everything = load_everything_dataframe('data/sap_summary_data.csv')"
   ]
  },
  {
   "cell_type": "markdown",
   "metadata": {},
   "source": [
    "#### 9. Get classes\n",
    "\n",
    "After creating the data table, you can use it to find what kinds of action potentials are in your data. The code below will tell you how many APs of each class are in your data."
   ]
  },
  {
   "cell_type": "code",
   "execution_count": 37,
   "metadata": {},
   "outputs": [
    {
     "name": "stdout",
     "output_type": "stream",
     "text": [
      "16 spontaneous action potentials\n",
      "50 non_spontaneous_0.5_Hz action potentials\n",
      "86 non_spontaneous_1.0_Hz action potentials\n",
      "1 non_spontaneous_1.2_Hz action potential\n",
      "231 non_spontaneous_2.0_Hz action potentials\n"
     ]
    }
   ],
   "source": [
    "class_tags = get_class_tags(everything, True)"
   ]
  },
  {
   "cell_type": "markdown",
   "metadata": {},
   "source": [
    "#### 9. Get all single action potentials\n",
    "\n",
    "If you already have the data table with information on every action potential, you can quickly get a list of the DataFrame of every action potential with the first code block below. If you haven't ran the above code, you can still get this list with the `get_all_saps` function. The list will be saved to the variable `all_saps`."
   ]
  },
  {
   "cell_type": "code",
   "execution_count": 4,
   "metadata": {},
   "outputs": [],
   "source": [
    "ap_data = recorded_data\n",
    "data_table = everything\n",
    "all_saps = get_saps_from_data_table(ap_data, data_table)"
   ]
  },
  {
   "cell_type": "code",
   "execution_count": null,
   "metadata": {},
   "outputs": [],
   "source": [
    "all_saps = get_all_saps(recorded_data)"
   ]
  },
  {
   "cell_type": "markdown",
   "metadata": {},
   "source": [
    "#### 10. Find single action potentials\n",
    "\n",
    "The code below will find single action potentials for you and save them to the variable `sap` based on their location in the data. Set `ap_number` to the index of the action potential you would like to find. If you want the function to find a random action potential from anywhere in the data, set `ap_number` to `0`. If you want the function to plot the action potential, set `does_plot` to `True`."
   ]
  },
  {
   "cell_type": "code",
   "execution_count": null,
   "metadata": {
    "scrolled": true
   },
   "outputs": [],
   "source": [
    "ap_number = 2\n",
    "does_plot = True\n",
    "sap = get_single_ap(recorded_data, ap_number, does_plot)"
   ]
  },
  {
   "cell_type": "markdown",
   "metadata": {},
   "source": [
    "#### 11. Plot all single action potentials\n",
    "\n",
    "This function below will create an interactive plot with a slider. Set `ap_data` to the data it will plot. It can work with either the initial DataFrame, but it will work faster if you run `get_all_saps` first and plug in `all_aps`. Move the slider to plot different action potentials in the data."
   ]
  },
  {
   "cell_type": "code",
   "execution_count": null,
   "metadata": {},
   "outputs": [],
   "source": [
    "ap_data = all_saps\n",
    "plot_sap_slider(ap_data)"
   ]
  },
  {
   "cell_type": "markdown",
   "metadata": {},
   "source": [
    "#### 12. Smoothing single action potential data\n",
    "\n",
    "This code will smooth out the voltage in a dataframe with one action potential, and creaete a new dataframe called `smooth_ap`. Set `single_ap_data` to the dataframe you want it to smooth. The higher the `degree`, the smoother the end result will be. Set `does_plot` to `False` if you don't want it to plot the new dataframe."
   ]
  },
  {
   "cell_type": "code",
   "execution_count": null,
   "metadata": {
    "scrolled": false
   },
   "outputs": [],
   "source": [
    "degree = 100\n",
    "single_ap_data = sap\n",
    "does_plot = True\n",
    "smooth_ap = smooth_ap_data(single_ap_data, degree, does_plot)"
   ]
  },
  {
   "cell_type": "markdown",
   "metadata": {},
   "source": [
    "#### 13. Comparing two action potentials\n",
    "\n",
    "The code below will give you the amplitude and duration of two action potentials, and graph those action potentials beow. Set `first_ap` and `second_ap` to the two action potentials you would like to compare."
   ]
  },
  {
   "cell_type": "code",
   "execution_count": null,
   "metadata": {
    "scrolled": false
   },
   "outputs": [],
   "source": [
    "first_ap = sap\n",
    "second_ap = smooth_ap\n",
    "compare_aps(first_ap, second_ap)"
   ]
  },
  {
   "cell_type": "markdown",
   "metadata": {},
   "source": [
    "#### 14. Find the duration of action potentials\n",
    "\n",
    "This function finds the duration of a single action potential, and saves it to `apd`. To use it, set `single_ap_data` to the action potential data you want it to find the duration of. Set `depolarization_percent` and `repolarization_percent` to the percentages (in decimals) you want the duration to be measured from. If you don't want the function to plot the action potential and it's duration, set `does_plot` to `False`."
   ]
  },
  {
   "cell_type": "code",
   "execution_count": null,
   "metadata": {
    "scrolled": false
   },
   "outputs": [],
   "source": [
    "depolarization_percent = .5\n",
    "repolarization_percent = .9\n",
    "does_plot = True\n",
    "single_ap_data = sap\n",
    "apd = get_ap_duration(single_ap_data, depolarization_percent, repolarization_percent, does_plot)"
   ]
  },
  {
   "cell_type": "markdown",
   "metadata": {},
   "source": [
    "#### 15. Find the amplitude of action potentials\n",
    "\n",
    "\n",
    "This function finds the amplitude of a single action potential, and saves it to `apa`. To use it, set `single_ap_data` to the action potential data you want it to find the amplitude of. If you don't want the function to plot the action potential and it's amplitude, set `does_plot` to `False`."
   ]
  },
  {
   "cell_type": "code",
   "execution_count": null,
   "metadata": {
    "scrolled": false
   },
   "outputs": [],
   "source": [
    "single_ap_data = sap\n",
    "does_plot = True\n",
    "apa = get_ap_amplitude(single_ap_data, does_plot)"
   ]
  },
  {
   "cell_type": "markdown",
   "metadata": {},
   "source": [
    "#### 16. Find the shape factor of action potentials\n",
    "\n",
    "The code below finds the shape factor of an action potential and records it to `shape_factor`. Set `single_ap_data` to the action potential you want the shape factor of. If you don't want the function to plot the action potential and it's shape factor, set `does_plot` to `False`."
   ]
  },
  {
   "cell_type": "code",
   "execution_count": null,
   "metadata": {
    "scrolled": false
   },
   "outputs": [],
   "source": [
    "single_ap_data = sap\n",
    "does_plot = True\n",
    "shape_factor = get_ap_shape_factor(single_ap_data, does_plot)"
   ]
  },
  {
   "cell_type": "markdown",
   "metadata": {},
   "source": [
    "#### 17. Find the maximum increase velocity of an action potential\n",
    "\n",
    "This function below will find the maximum increase velocity of an action potential and save it to the variable `vmax`. Set `single_ap_data` to the single action potential it will find the maximum velocity of. If you don't want the function to plot the action potential and it's maximum increase velocity, set `does_plot` to `False`."
   ]
  },
  {
   "cell_type": "code",
   "execution_count": null,
   "metadata": {
    "scrolled": false
   },
   "outputs": [],
   "source": [
    "single_ap_data = sap\n",
    "does_plot = True\n",
    "vmax = get_slope(single_ap_data, does_plot)"
   ]
  },
  {
   "cell_type": "markdown",
   "metadata": {},
   "source": [
    "#### 18. Find all cycle lengths\n",
    "\n",
    "The code below will search through the entire data set and create a list called `cycle_lengths` of all the cycle lengths of the action potentials. If you don't want it to make a graph of the cycle lengths, set `does_plot` to `False`."
   ]
  },
  {
   "cell_type": "code",
   "execution_count": 19,
   "metadata": {
    "scrolled": false
   },
   "outputs": [
    {
     "data": {
      "image/png": "[encoded data removed]",
      "text/plain": [
       "<Figure size 432x288 with 1 Axes>"
      ]
     },
     "metadata": {
      "needs_background": "light"
     },
     "output_type": "display_data"
    }
   ],
   "source": [
    "does_plot = True\n",
    "cycle_lengths = get_cycle_lengths(recorded_data, does_plot)"
   ]
  },
  {
   "cell_type": "markdown",
   "metadata": {},
   "source": [
    "#### 19. Find all action potential durations\n",
    "\n",
    "This code will search through all of the data and make a list called `all_apds` of the duration of every action potential. Set `depolarization_percent` and `repolarization_percent` to the percentages (in decimals) you want the duration to be measured from. If you want a graph of the durations, set `does_plot` to `True`. You need to run `get_all_saps` before you run this function."
   ]
  },
  {
   "cell_type": "code",
   "execution_count": null,
   "metadata": {
    "scrolled": false
   },
   "outputs": [],
   "source": [
    "depolarization_percent = .5\n",
    "repolarization_percent = .9\n",
    "does_plot = True\n",
    "all_apds = get_all_apds(all_saps, depolarization_percent, repolarization_percent, True)"
   ]
  },
  {
   "cell_type": "markdown",
   "metadata": {},
   "source": [
    "#### 20. Get APDn - APDn+1\n",
    "\n",
    "The code below will create a list called `apdn_apdn1` of all the action potential durations compared to the following action potential duration. Set `depolarization_percent` and `repolarization_percent` to the percentages (in decimals) you want the duration to be measured from. If you want a graph of the durations, set `does_plot` to `True`. You need to run `get_all_saps` before you run this function."
   ]
  },
  {
   "cell_type": "code",
   "execution_count": null,
   "metadata": {},
   "outputs": [],
   "source": [
    "depolarization_percent = .5\n",
    "repolarization_percent = .9\n",
    "does_plot = True\n",
    "apdn_apdn1 = get_apdn_apdn1(all_saps, depolarization_percent, repolarization_percent, does_plot)"
   ]
  },
  {
   "cell_type": "markdown",
   "metadata": {},
   "source": [
    "#### 21. Find all action potential amplitudes\n",
    "\n",
    "This code will search through all of the data and make a list called `all_apas` of the amplitude of every action potential. If you want a graph of the amplitudes, set `does_plot` to `True`. You need to run `get_all_saps` before this function."
   ]
  },
  {
   "cell_type": "code",
   "execution_count": null,
   "metadata": {
    "scrolled": false
   },
   "outputs": [],
   "source": [
    "does_plot = True\n",
    "all_apas = get_all_apas(all_saps, does_plot)"
   ]
  },
  {
   "cell_type": "markdown",
   "metadata": {},
   "source": [
    "#### 22. Find all action potential shape factors\n",
    "\n",
    "This code will search through all of the data and make a list called `all_sfs` of the shape factor of every action potential. If you want a graph of the shape factors, set `does_plot` to `True`. You need to run `get_all_saps` before this function."
   ]
  },
  {
   "cell_type": "code",
   "execution_count": null,
   "metadata": {},
   "outputs": [],
   "source": [
    "does_plot = True\n",
    "all_sfs = get_all_sfs(all_saps, does_plot)"
   ]
  },
  {
   "cell_type": "markdown",
   "metadata": {},
   "source": [
    "#### 23. Find all action potential maximum increase velocities\n",
    "\n",
    "This code will search through all of the data and make a list called `all_vmax` of the maximum increase velocity of every action potential. If you want a graph of the velocities, set `does_plot` to `True`. You need to run `get_all_saps` before this function."
   ]
  },
  {
   "cell_type": "code",
   "execution_count": null,
   "metadata": {},
   "outputs": [],
   "source": [
    "does_plot = True\n",
    "all_vmax = get_all_vmax(all_saps, does_plot)"
   ]
  },
  {
   "cell_type": "markdown",
   "metadata": {},
   "source": [
    "#### 24. Get all diastolic intervals\n",
    "\n",
    "This code below will find the diastolic intervals of every non-spontaneous action potential, and them to a list `di`. For spontaneous action potentials, the function will return `'NA'`.\n",
    "If you want a plot of the diastolic intervals, set `does_plot` to `True`."
   ]
  },
  {
   "cell_type": "code",
   "execution_count": 30,
   "metadata": {},
   "outputs": [
    {
     "data": {
      "image/png": "[encoded data removed]",
      "text/plain": [
       "<Figure size 432x288 with 1 Axes>"
      ]
     },
     "metadata": {
      "needs_background": "light"
     },
     "output_type": "display_data"
    }
   ],
   "source": [
    "does_plot = True\n",
    "di = get_diastolic_intervals(recorded_data, does_plot)"
   ]
  },
  {
   "cell_type": "markdown",
   "metadata": {},
   "source": [
    "#### 25. Find a range of action potentials\n",
    "\n",
    "The code below will find a range of single action potentials for you and save it to the variable `ap_range`. To have the function return a list of single action potential Dataframes, set `split` to `True`. If you want one Dataframe containing all the action potentials in the range, set `split` to `False`. Set `first_ap` to the index of the first action potential in the range, and set `last_ap` to the last action potential you want in the range. If you don't want the function to plot the action potentials, set `does_plot` to `False`."
   ]
  },
  {
   "cell_type": "code",
   "execution_count": null,
   "metadata": {},
   "outputs": [],
   "source": [
    "split = False\n",
    "first_ap = 17\n",
    "last_ap = 20\n",
    "does_plot = True\n",
    "ap_range = get_ap_range(recorded_data, first_ap, last_ap, split, does_plot)"
   ]
  },
  {
   "cell_type": "markdown",
   "metadata": {},
   "source": [
    "#### 26. Find various action potentials\n",
    "\n",
    "The following code will find five various action potentials from different parts of the data, and save them all to the variable `vaps`. If you don't want it to plot the five action potentials, set `does_plot` to `False`."
   ]
  },
  {
   "cell_type": "code",
   "execution_count": null,
   "metadata": {},
   "outputs": [],
   "source": [
    "does_plot = True\n",
    "vaps = get_various_aps(recorded_data, does_plot)"
   ]
  },
  {
   "cell_type": "markdown",
   "metadata": {},
   "source": [
    "restitution curve"
   ]
  },
  {
   "cell_type": "code",
   "execution_count": null,
   "metadata": {},
   "outputs": [],
   "source": [
    "def do_the_thing(ap_data, peak):\n",
    "    cycle_length = len(ap_data)\n",
    "    smoothed = np.convolve(ap_data['Voltage (V)'], np.ones((50,))/50, mode='valid')\n",
    "    slope = np.convolve(np.diff(smoothed), np.ones((50,))/50, mode='valid')\n",
    "    time_start = ap_data['Time (s)'].min()\n",
    "    time_start_loc = ap_data['Time (s)'].idxmin()\n",
    "    start = peak - int(cycle_length / 5) - int(time_start_loc)\n",
    "    end = peak - int(cycle_length / 10) - int(time_start_loc)\n",
    "    before_upslope = slope[start:end]\n",
    "    print(np.average(before_upslope))\n",
    "    plt.plot(before_upslope)\n",
    "\n",
    "ap = 379\n",
    "sap1 = get_single_ap(recorded_data, ap + 1)\n",
    "sap2 = get_single_ap(recorded_data, ap)\n",
    "sap3 = get_single_ap(recorded_data, ap + 2)\n",
    "peaks = find_voltage_peaks(recorded_data['Voltage (V)'])\n",
    "do_the_thing(sap1, peaks[ap])\n",
    "do_the_thing(sap2, peaks[ap - 1])\n",
    "do_the_thing(sap3, peaks[ap + 1])"
   ]
  },
  {
   "cell_type": "code",
   "execution_count": null,
   "metadata": {},
   "outputs": [],
   "source": [
    "N = 50\n",
    "\n",
    "x = np.convolve(sap['Voltage (V)'], np.ones((N,))/N, mode='valid')\n",
    "plt.plot(x)"
   ]
  },
  {
   "cell_type": "code",
   "execution_count": 35,
   "metadata": {},
   "outputs": [
    {
     "name": "stdout",
     "output_type": "stream",
     "text": [
      "       Start      End                   Class  Cycle Lengths (s)  \\\n",
      "0       3986    14308             spontaneous             1.1292   \n",
      "1      15582    25600             spontaneous             1.0078   \n",
      "2      25662    35678             spontaneous             1.0070   \n",
      "3      35771    45748             spontaneous             0.9914   \n",
      "4      45899    55662             spontaneous             0.9057   \n",
      "..       ...      ...                     ...                ...   \n",
      "379  3640522  3645522  non_spontaneous_2.0_Hz             0.5001   \n",
      "380  3645523  3650523  non_spontaneous_2.0_Hz             0.5001   \n",
      "381  3650524  3655524  non_spontaneous_2.0_Hz             0.5001   \n",
      "382  3655525  3660525  non_spontaneous_2.0_Hz             0.5001   \n",
      "383  3660526  3665526  non_spontaneous_2.0_Hz             0.5001   \n",
      "\n",
      "    Diastolic Intervals pre-AP (s)  Duration 30% (s)  Duration 40% (s)  \\\n",
      "0                               NA            0.1430            0.1665   \n",
      "1                               NA            0.1230            0.1442   \n",
      "2                               NA            0.1403            0.1638   \n",
      "3                               NA            0.1322            0.1552   \n",
      "4                               NA            0.1371            0.1602   \n",
      "..                             ...               ...               ...   \n",
      "379                         0.2529            0.0018            0.0023   \n",
      "380                         0.2501            0.0018            0.0024   \n",
      "381                         0.2571            0.0018            0.0023   \n",
      "382                         0.2539            0.0018            0.0023   \n",
      "383                           0.26            0.0018            0.0023   \n",
      "\n",
      "     Duration 70% (s)  Duration 80% (s)  Duration 90% (s)  Amplitude (V)  \\\n",
      "0              0.2158            0.2312            0.2511       0.099972   \n",
      "1              0.1934            0.2098            0.2308       0.099514   \n",
      "2              0.2141            0.2296            0.2475       0.098954   \n",
      "3              0.2078            0.2236            0.2432       0.099456   \n",
      "4              0.2124            0.2277            0.2481       0.099160   \n",
      "..                ...               ...               ...            ...   \n",
      "379            0.1589            0.2082            0.2305       0.270833   \n",
      "380            0.1628            0.2106            0.2341       0.269855   \n",
      "381            0.1532            0.2027            0.2261       0.270067   \n",
      "382            0.1584            0.2063            0.2305       0.270344   \n",
      "383            0.1499            0.2008            0.2243       0.270292   \n",
      "\n",
      "      MDP (V)  Shape Factor  dv/dt max (V/s)  \n",
      "0   -0.067590      1.525974         7.286302  \n",
      "1   -0.067738      1.292683         7.287900  \n",
      "2   -0.067571      1.516129         7.465986  \n",
      "3   -0.067835      1.455696         7.731867  \n",
      "4   -0.067551      1.509804         7.275569  \n",
      "..        ...           ...              ...  \n",
      "379 -0.079489      0.010142       116.170261  \n",
      "380 -0.079611      0.012552       115.018361  \n",
      "381 -0.079508      0.010101       115.025537  \n",
      "382 -0.079592      0.010438       115.340332  \n",
      "383 -0.079463      0.009823       115.326014  \n",
      "\n",
      "[384 rows x 14 columns]\n"
     ]
    }
   ],
   "source": [
    "print(everything)"
   ]
  },
  {
   "cell_type": "code",
   "execution_count": null,
   "metadata": {},
   "outputs": [],
   "source": []
  }
 ],
 "metadata": {
  "kernelspec": {
   "display_name": "p36workshop",
   "language": "python",
   "name": "p36workshop"
  },
  "language_info": {
   "codemirror_mode": {
    "name": "ipython",
    "version": 3
   },
   "file_extension": ".py",
   "mimetype": "text/x-python",
   "name": "python",
   "nbconvert_exporter": "python",
   "pygments_lexer": "ipython3",
   "version": "3.6.9"
  }
 },
 "nbformat": 4,
 "nbformat_minor": 2
}
