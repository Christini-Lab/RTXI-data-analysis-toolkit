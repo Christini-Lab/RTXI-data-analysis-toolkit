{
 "cells": [
  {
   "cell_type": "markdown",
   "metadata": {},
   "source": [
    "## Importing RTXI H5 files into Python\n",
    "\n",
    "This Python notebook uses functions from **load_h5.py** to load RTXI data and process it into an easy-to-handle Python format. The **load_h5** module includes features to find single potentials, and save them to .csv files located at: **./data/{rtxi_filename}/{ap_label}.csv**.\n",
    "\n",
    "If you're interested in the implementation of the functions below, open **load_h5.py**. \n",
    "\n",
    "Let me know if you want to make changes/additions to **load_h5.py**, so we can setup a collaborative workflow using GitHub.\n",
    "\n",
    "#### 1. Load Functions from load_h5.py\n",
    "\n",
    "This Jupyter Notebook is in a directory that includes a file called **load_h5.py**. The **load_h5.py** file contains a few custom functions that I wrote to process the RTXI H5 file. Below, I use Python's `import` statement in the line `from load_h5 import *` to import all the functions from **load_h5.py**. "
   ]
  },
  {
   "cell_type": "code",
   "execution_count": 7,
   "metadata": {
    "scrolled": false
   },
   "outputs": [],
   "source": [
    "from load_h5 import * #file developed by me plot_all_channels(recorded_data)"
   ]
  },
  {
   "cell_type": "markdown",
   "metadata": {},
   "source": [
    "#### 2. Set the file name and trial number\n",
    "\n",
    "In the current directory, there should be a folder called **/data**. If you have not done so already, copy your .h5 file into this folder. Once you've done that, change the `filename` variable in the code below to:\n",
    "```\n",
    "filename='data/YOUR_FILE_NAME.h5'\n",
    "```\n",
    "\n",
    "Set the `trial_number` variable to an integer that corresponds to your desired trial number. If you don't know your trial number, try a few out, starting from 1 and counting up. The code below will print the tags and plot voltage/current curves for the given trial. You can adjust the `trial_number` variable until you find the data you want."
   ]
  },
  {
   "cell_type": "code",
   "execution_count": 10,
   "metadata": {
    "scrolled": false
   },
   "outputs": [
    {
     "name": "stdout",
     "output_type": "stream",
     "text": [
      "           Time Description\n",
      "0     37.642296   scale 0.5\n",
      "1     78.806629        0.65\n",
      "2    118.974874      pace 1\n",
      "3    139.609033     stimu 1\n",
      "4    164.737230     1.5 stm\n",
      "5    209.293497      stim 2\n",
      "6    349.384639     1200bcl\n",
      "7    480.877668         500\n",
      "8    486.935620         500\n",
      "9    617.244723         300\n",
      "10   739.499537        1500\n",
      "11   878.964635         700\n",
      "12  1008.299692         600\n",
      "13  1140.248595        2500\n",
      "14  1257.555514         900\n",
      "15  1407.818640         800\n",
      "16  1584.564006         400\n",
      "17  1598.679993         400\n"
     ]
    },
    {
     "data": {
      "image/png": "[encoded data removed]",
      "text/plain": [
       "<Figure size 432x288 with 2 Axes>"
      ]
     },
     "metadata": {
      "needs_background": "light"
     },
     "output_type": "display_data"
    }
   ],
   "source": [
    "#Set the path and trial\n",
    "filename='data/0311002.h5'\n",
    "trial_number=1\n",
    "f=load_h5(filename)\n",
    "\n",
    "recorded_data=get_exp_as_df(f,trial_number)\n",
    "tags=get_tags(f,trial_number)\n",
    "\n",
    "print(tags)\n",
    "plot_V_and_I(recorded_data)"
   ]
  },
  {
   "cell_type": "markdown",
   "metadata": {},
   "source": [
    "#### 3. Search for a single action potential\n",
    "\n",
    "The code below opens a figure with Voltage and current plots. Use the magnifying glass to zoom in on the data. Once your zoomed in, you can eyeball the start and end times of an action potential. Use these times for extraction single action potential data, in the next step."
   ]
  },
  {
   "cell_type": "code",
   "execution_count": 13,
   "metadata": {},
   "outputs": [
    {
     "data": {
      "application/javascript": [
       "/* Put everything inside the global mpl namespace */\n",
       "window.mpl = {};\n",
       "\n",
       "\n",
       "mpl.get_websocket_type = function() {\n",
       "    if (typeof(WebSocket) !== 'undefined') {\n",
       "        return WebSocket;\n",
       "    } else if (typeof(MozWebSocket) !== 'undefined') {\n",
       "        return MozWebSocket;\n",
       "    } else {\n",
       "        alert('Your browser does not have WebSocket support. ' +\n",
       "              'Please try Chrome, Safari or Firefox ≥ 6. ' +\n",
       "              'Firefox 4 and 5 are also supported but you ' +\n",
       "              'have to enable WebSockets in about:config.');\n",
       "    };\n",
       "}\n",
       "\n",
       "mpl.figure = function(figure_id, websocket, ondownload, parent_element) {\n",
       "    this.id = figure_id;\n",
       "\n",
       "    this.ws = websocket;\n",
       "\n",
       "    this.supports_binary = (this.ws.binaryType != undefined);\n",
       "\n",
       "    if (!this.supports_binary) {\n",
       "        var warnings = document.getElementById(\"mpl-warnings\");\n",
       "        if (warnings) {\n",
       "            warnings.style.display = 'block';\n",
       "            warnings.textContent = (\n",
       "                \"This browser does not support binary websocket messages. \" +\n",
       "                    \"Performance may be slow.\");\n",
       "        }\n",
       "    }\n",
       "\n",
       "    this.imageObj = new Image();\n",
       "\n",
       "    this.context = undefined;\n",
       "    this.message = undefined;\n",
       "    this.canvas = undefined;\n",
       "    this.rubberband_canvas = undefined;\n",
       "    this.rubberband_context = undefined;\n",
       "    this.format_dropdown = undefined;\n",
       "\n",
       "    this.image_mode = 'full';\n",
       "\n",
       "    this.root = $('<div/>');\n",
       "    this._root_extra_style(this.root)\n",
       "    this.root.attr('style', 'display: inline-block');\n",
       "\n",
       "    $(parent_element).append(this.root);\n",
       "\n",
       "    this._init_header(this);\n",
       "    this._init_canvas(this);\n",
       "    this._init_toolbar(this);\n",
       "\n",
       "    var fig = this;\n",
       "\n",
       "    this.waiting = false;\n",
       "\n",
       "    this.ws.onopen =  function () {\n",
       "            fig.send_message(\"supports_binary\", {value: fig.supports_binary});\n",
       "            fig.send_message(\"send_image_mode\", {});\n",
       "            if (mpl.ratio != 1) {\n",
       "                fig.send_message(\"set_dpi_ratio\", {'dpi_ratio': mpl.ratio});\n",
       "            }\n",
       "            fig.send_message(\"refresh\", {});\n",
       "        }\n",
       "\n",
       "    this.imageObj.onload = function() {\n",
       "            if (fig.image_mode == 'full') {\n",
       "                // Full images could contain transparency (where diff images\n",
       "                // almost always do), so we need to clear the canvas so that\n",
       "                // there is no ghosting.\n",
       "                fig.context.clearRect(0, 0, fig.canvas.width, fig.canvas.height);\n",
       "            }\n",
       "            fig.context.drawImage(fig.imageObj, 0, 0);\n",
       "        };\n",
       "\n",
       "    this.imageObj.onunload = function() {\n",
       "        fig.ws.close();\n",
       "    }\n",
       "\n",
       "    this.ws.onmessage = this._make_on_message_function(this);\n",
       "\n",
       "    this.ondownload = ondownload;\n",
       "}\n",
       "\n",
       "mpl.figure.prototype._init_header = function() {\n",
       "    var titlebar = $(\n",
       "        '<div class=\"ui-dialog-titlebar ui-widget-header ui-corner-all ' +\n",
       "        'ui-helper-clearfix\"/>');\n",
       "    var titletext = $(\n",
       "        '<div class=\"ui-dialog-title\" style=\"width: 100%; ' +\n",
       "        'text-align: center; padding: 3px;\"/>');\n",
       "    titlebar.append(titletext)\n",
       "    this.root.append(titlebar);\n",
       "    this.header = titletext[0];\n",
       "}\n",
       "\n",
       "\n",
       "\n",
       "mpl.figure.prototype._canvas_extra_style = function(canvas_div) {\n",
       "\n",
       "}\n",
       "\n",
       "\n",
       "mpl.figure.prototype._root_extra_style = function(canvas_div) {\n",
       "\n",
       "}\n",
       "\n",
       "mpl.figure.prototype._init_canvas = function() {\n",
       "    var fig = this;\n",
       "\n",
       "    var canvas_div = $('<div/>');\n",
       "\n",
       "    canvas_div.attr('style', 'position: relative; clear: both; outline: 0');\n",
       "\n",
       "    function canvas_keyboard_event(event) {\n",
       "        return fig.key_event(event, event['data']);\n",
       "    }\n",
       "\n",
       "    canvas_div.keydown('key_press', canvas_keyboard_event);\n",
       "    canvas_div.keyup('key_release', canvas_keyboard_event);\n",
       "    this.canvas_div = canvas_div\n",
       "    this._canvas_extra_style(canvas_div)\n",
       "    this.root.append(canvas_div);\n",
       "\n",
       "    var canvas = $('<canvas/>');\n",
       "    canvas.addClass('mpl-canvas');\n",
       "    canvas.attr('style', \"left: 0; top: 0; z-index: 0; outline: 0\")\n",
       "\n",
       "    this.canvas = canvas[0];\n",
       "    this.context = canvas[0].getContext(\"2d\");\n",
       "\n",
       "    var backingStore = this.context.backingStorePixelRatio ||\n",
       "\tthis.context.webkitBackingStorePixelRatio ||\n",
       "\tthis.context.mozBackingStorePixelRatio ||\n",
       "\tthis.context.msBackingStorePixelRatio ||\n",
       "\tthis.context.oBackingStorePixelRatio ||\n",
       "\tthis.context.backingStorePixelRatio || 1;\n",
       "\n",
       "    mpl.ratio = (window.devicePixelRatio || 1) / backingStore;\n",
       "\n",
       "    var rubberband = $('<canvas/>');\n",
       "    rubberband.attr('style', \"position: absolute; left: 0; top: 0; z-index: 1;\")\n",
       "\n",
       "    var pass_mouse_events = true;\n",
       "\n",
       "    canvas_div.resizable({\n",
       "        start: function(event, ui) {\n",
       "            pass_mouse_events = false;\n",
       "        },\n",
       "        resize: function(event, ui) {\n",
       "            fig.request_resize(ui.size.width, ui.size.height);\n",
       "        },\n",
       "        stop: function(event, ui) {\n",
       "            pass_mouse_events = true;\n",
       "            fig.request_resize(ui.size.width, ui.size.height);\n",
       "        },\n",
       "    });\n",
       "\n",
       "    function mouse_event_fn(event) {\n",
       "        if (pass_mouse_events)\n",
       "            return fig.mouse_event(event, event['data']);\n",
       "    }\n",
       "\n",
       "    rubberband.mousedown('button_press', mouse_event_fn);\n",
       "    rubberband.mouseup('button_release', mouse_event_fn);\n",
       "    // Throttle sequential mouse events to 1 every 20ms.\n",
       "    rubberband.mousemove('motion_notify', mouse_event_fn);\n",
       "\n",
       "    rubberband.mouseenter('figure_enter', mouse_event_fn);\n",
       "    rubberband.mouseleave('figure_leave', mouse_event_fn);\n",
       "\n",
       "    canvas_div.on(\"wheel\", function (event) {\n",
       "        event = event.originalEvent;\n",
       "        event['data'] = 'scroll'\n",
       "        if (event.deltaY < 0) {\n",
       "            event.step = 1;\n",
       "        } else {\n",
       "            event.step = -1;\n",
       "        }\n",
       "        mouse_event_fn(event);\n",
       "    });\n",
       "\n",
       "    canvas_div.append(canvas);\n",
       "    canvas_div.append(rubberband);\n",
       "\n",
       "    this.rubberband = rubberband;\n",
       "    this.rubberband_canvas = rubberband[0];\n",
       "    this.rubberband_context = rubberband[0].getContext(\"2d\");\n",
       "    this.rubberband_context.strokeStyle = \"#000000\";\n",
       "\n",
       "    this._resize_canvas = function(width, height) {\n",
       "        // Keep the size of the canvas, canvas container, and rubber band\n",
       "        // canvas in synch.\n",
       "        canvas_div.css('width', width)\n",
       "        canvas_div.css('height', height)\n",
       "\n",
       "        canvas.attr('width', width * mpl.ratio);\n",
       "        canvas.attr('height', height * mpl.ratio);\n",
       "        canvas.attr('style', 'width: ' + width + 'px; height: ' + height + 'px;');\n",
       "\n",
       "        rubberband.attr('width', width);\n",
       "        rubberband.attr('height', height);\n",
       "    }\n",
       "\n",
       "    // Set the figure to an initial 600x600px, this will subsequently be updated\n",
       "    // upon first draw.\n",
       "    this._resize_canvas(600, 600);\n",
       "\n",
       "    // Disable right mouse context menu.\n",
       "    $(this.rubberband_canvas).bind(\"contextmenu\",function(e){\n",
       "        return false;\n",
       "    });\n",
       "\n",
       "    function set_focus () {\n",
       "        canvas.focus();\n",
       "        canvas_div.focus();\n",
       "    }\n",
       "\n",
       "    window.setTimeout(set_focus, 100);\n",
       "}\n",
       "\n",
       "mpl.figure.prototype._init_toolbar = function() {\n",
       "    var fig = this;\n",
       "\n",
       "    var nav_element = $('<div/>');\n",
       "    nav_element.attr('style', 'width: 100%');\n",
       "    this.root.append(nav_element);\n",
       "\n",
       "    // Define a callback function for later on.\n",
       "    function toolbar_event(event) {\n",
       "        return fig.toolbar_button_onclick(event['data']);\n",
       "    }\n",
       "    function toolbar_mouse_event(event) {\n",
       "        return fig.toolbar_button_onmouseover(event['data']);\n",
       "    }\n",
       "\n",
       "    for(var toolbar_ind in mpl.toolbar_items) {\n",
       "        var name = mpl.toolbar_items[toolbar_ind][0];\n",
       "        var tooltip = mpl.toolbar_items[toolbar_ind][1];\n",
       "        var image = mpl.toolbar_items[toolbar_ind][2];\n",
       "        var method_name = mpl.toolbar_items[toolbar_ind][3];\n",
       "\n",
       "        if (!name) {\n",
       "            // put a spacer in here.\n",
       "            continue;\n",
       "        }\n",
       "        var button = $('<button/>');\n",
       "        button.addClass('ui-button ui-widget ui-state-default ui-corner-all ' +\n",
       "                        'ui-button-icon-only');\n",
       "        button.attr('role', 'button');\n",
       "        button.attr('aria-disabled', 'false');\n",
       "        button.click(method_name, toolbar_event);\n",
       "        button.mouseover(tooltip, toolbar_mouse_event);\n",
       "\n",
       "        var icon_img = $('<span/>');\n",
       "        icon_img.addClass('ui-button-icon-primary ui-icon');\n",
       "        icon_img.addClass(image);\n",
       "        icon_img.addClass('ui-corner-all');\n",
       "\n",
       "        var tooltip_span = $('<span/>');\n",
       "        tooltip_span.addClass('ui-button-text');\n",
       "        tooltip_span.html(tooltip);\n",
       "\n",
       "        button.append(icon_img);\n",
       "        button.append(tooltip_span);\n",
       "\n",
       "        nav_element.append(button);\n",
       "    }\n",
       "\n",
       "    var fmt_picker_span = $('<span/>');\n",
       "\n",
       "    var fmt_picker = $('<select/>');\n",
       "    fmt_picker.addClass('mpl-toolbar-option ui-widget ui-widget-content');\n",
       "    fmt_picker_span.append(fmt_picker);\n",
       "    nav_element.append(fmt_picker_span);\n",
       "    this.format_dropdown = fmt_picker[0];\n",
       "\n",
       "    for (var ind in mpl.extensions) {\n",
       "        var fmt = mpl.extensions[ind];\n",
       "        var option = $(\n",
       "            '<option/>', {selected: fmt === mpl.default_extension}).html(fmt);\n",
       "        fmt_picker.append(option);\n",
       "    }\n",
       "\n",
       "    // Add hover states to the ui-buttons\n",
       "    $( \".ui-button\" ).hover(\n",
       "        function() { $(this).addClass(\"ui-state-hover\");},\n",
       "        function() { $(this).removeClass(\"ui-state-hover\");}\n",
       "    );\n",
       "\n",
       "    var status_bar = $('<span class=\"mpl-message\"/>');\n",
       "    nav_element.append(status_bar);\n",
       "    this.message = status_bar[0];\n",
       "}\n",
       "\n",
       "mpl.figure.prototype.request_resize = function(x_pixels, y_pixels) {\n",
       "    // Request matplotlib to resize the figure. Matplotlib will then trigger a resize in the client,\n",
       "    // which will in turn request a refresh of the image.\n",
       "    this.send_message('resize', {'width': x_pixels, 'height': y_pixels});\n",
       "}\n",
       "\n",
       "mpl.figure.prototype.send_message = function(type, properties) {\n",
       "    properties['type'] = type;\n",
       "    properties['figure_id'] = this.id;\n",
       "    this.ws.send(JSON.stringify(properties));\n",
       "}\n",
       "\n",
       "mpl.figure.prototype.send_draw_message = function() {\n",
       "    if (!this.waiting) {\n",
       "        this.waiting = true;\n",
       "        this.ws.send(JSON.stringify({type: \"draw\", figure_id: this.id}));\n",
       "    }\n",
       "}\n",
       "\n",
       "\n",
       "mpl.figure.prototype.handle_save = function(fig, msg) {\n",
       "    var format_dropdown = fig.format_dropdown;\n",
       "    var format = format_dropdown.options[format_dropdown.selectedIndex].value;\n",
       "    fig.ondownload(fig, format);\n",
       "}\n",
       "\n",
       "\n",
       "mpl.figure.prototype.handle_resize = function(fig, msg) {\n",
       "    var size = msg['size'];\n",
       "    if (size[0] != fig.canvas.width || size[1] != fig.canvas.height) {\n",
       "        fig._resize_canvas(size[0], size[1]);\n",
       "        fig.send_message(\"refresh\", {});\n",
       "    };\n",
       "}\n",
       "\n",
       "mpl.figure.prototype.handle_rubberband = function(fig, msg) {\n",
       "    var x0 = msg['x0'] / mpl.ratio;\n",
       "    var y0 = (fig.canvas.height - msg['y0']) / mpl.ratio;\n",
       "    var x1 = msg['x1'] / mpl.ratio;\n",
       "    var y1 = (fig.canvas.height - msg['y1']) / mpl.ratio;\n",
       "    x0 = Math.floor(x0) + 0.5;\n",
       "    y0 = Math.floor(y0) + 0.5;\n",
       "    x1 = Math.floor(x1) + 0.5;\n",
       "    y1 = Math.floor(y1) + 0.5;\n",
       "    var min_x = Math.min(x0, x1);\n",
       "    var min_y = Math.min(y0, y1);\n",
       "    var width = Math.abs(x1 - x0);\n",
       "    var height = Math.abs(y1 - y0);\n",
       "\n",
       "    fig.rubberband_context.clearRect(\n",
       "        0, 0, fig.canvas.width / mpl.ratio, fig.canvas.height / mpl.ratio);\n",
       "\n",
       "    fig.rubberband_context.strokeRect(min_x, min_y, width, height);\n",
       "}\n",
       "\n",
       "mpl.figure.prototype.handle_figure_label = function(fig, msg) {\n",
       "    // Updates the figure title.\n",
       "    fig.header.textContent = msg['label'];\n",
       "}\n",
       "\n",
       "mpl.figure.prototype.handle_cursor = function(fig, msg) {\n",
       "    var cursor = msg['cursor'];\n",
       "    switch(cursor)\n",
       "    {\n",
       "    case 0:\n",
       "        cursor = 'pointer';\n",
       "        break;\n",
       "    case 1:\n",
       "        cursor = 'default';\n",
       "        break;\n",
       "    case 2:\n",
       "        cursor = 'crosshair';\n",
       "        break;\n",
       "    case 3:\n",
       "        cursor = 'move';\n",
       "        break;\n",
       "    }\n",
       "    fig.rubberband_canvas.style.cursor = cursor;\n",
       "}\n",
       "\n",
       "mpl.figure.prototype.handle_message = function(fig, msg) {\n",
       "    fig.message.textContent = msg['message'];\n",
       "}\n",
       "\n",
       "mpl.figure.prototype.handle_draw = function(fig, msg) {\n",
       "    // Request the server to send over a new figure.\n",
       "    fig.send_draw_message();\n",
       "}\n",
       "\n",
       "mpl.figure.prototype.handle_image_mode = function(fig, msg) {\n",
       "    fig.image_mode = msg['mode'];\n",
       "}\n",
       "\n",
       "mpl.figure.prototype.updated_canvas_event = function() {\n",
       "    // Called whenever the canvas gets updated.\n",
       "    this.send_message(\"ack\", {});\n",
       "}\n",
       "\n",
       "// A function to construct a web socket function for onmessage handling.\n",
       "// Called in the figure constructor.\n",
       "mpl.figure.prototype._make_on_message_function = function(fig) {\n",
       "    return function socket_on_message(evt) {\n",
       "        if (evt.data instanceof Blob) {\n",
       "            /* FIXME: We get \"Resource interpreted as Image but\n",
       "             * transferred with MIME type text/plain:\" errors on\n",
       "             * Chrome.  But how to set the MIME type?  It doesn't seem\n",
       "             * to be part of the websocket stream */\n",
       "            evt.data.type = \"image/png\";\n",
       "\n",
       "            /* Free the memory for the previous frames */\n",
       "            if (fig.imageObj.src) {\n",
       "                (window.URL || window.webkitURL).revokeObjectURL(\n",
       "                    fig.imageObj.src);\n",
       "            }\n",
       "\n",
       "            fig.imageObj.src = (window.URL || window.webkitURL).createObjectURL(\n",
       "                evt.data);\n",
       "            fig.updated_canvas_event();\n",
       "            fig.waiting = false;\n",
       "            return;\n",
       "        }\n",
       "        else if (typeof evt.data === 'string' && evt.data.slice(0, 21) == \"data:image/png;base64\") {\n",
       "            fig.imageObj.src = evt.data;\n",
       "            fig.updated_canvas_event();\n",
       "            fig.waiting = false;\n",
       "            return;\n",
       "        }\n",
       "\n",
       "        var msg = JSON.parse(evt.data);\n",
       "        var msg_type = msg['type'];\n",
       "\n",
       "        // Call the  \"handle_{type}\" callback, which takes\n",
       "        // the figure and JSON message as its only arguments.\n",
       "        try {\n",
       "            var callback = fig[\"handle_\" + msg_type];\n",
       "        } catch (e) {\n",
       "            console.log(\"No handler for the '\" + msg_type + \"' message type: \", msg);\n",
       "            return;\n",
       "        }\n",
       "\n",
       "        if (callback) {\n",
       "            try {\n",
       "                // console.log(\"Handling '\" + msg_type + \"' message: \", msg);\n",
       "                callback(fig, msg);\n",
       "            } catch (e) {\n",
       "                console.log(\"Exception inside the 'handler_\" + msg_type + \"' callback:\", e, e.stack, msg);\n",
       "            }\n",
       "        }\n",
       "    };\n",
       "}\n",
       "\n",
       "// from http://stackoverflow.com/questions/1114465/getting-mouse-location-in-canvas\n",
       "mpl.findpos = function(e) {\n",
       "    //this section is from http://www.quirksmode.org/js/events_properties.html\n",
       "    var targ;\n",
       "    if (!e)\n",
       "        e = window.event;\n",
       "    if (e.target)\n",
       "        targ = e.target;\n",
       "    else if (e.srcElement)\n",
       "        targ = e.srcElement;\n",
       "    if (targ.nodeType == 3) // defeat Safari bug\n",
       "        targ = targ.parentNode;\n",
       "\n",
       "    // jQuery normalizes the pageX and pageY\n",
       "    // pageX,Y are the mouse positions relative to the document\n",
       "    // offset() returns the position of the element relative to the document\n",
       "    var x = e.pageX - $(targ).offset().left;\n",
       "    var y = e.pageY - $(targ).offset().top;\n",
       "\n",
       "    return {\"x\": x, \"y\": y};\n",
       "};\n",
       "\n",
       "/*\n",
       " * return a copy of an object with only non-object keys\n",
       " * we need this to avoid circular references\n",
       " * http://stackoverflow.com/a/24161582/3208463\n",
       " */\n",
       "function simpleKeys (original) {\n",
       "  return Object.keys(original).reduce(function (obj, key) {\n",
       "    if (typeof original[key] !== 'object')\n",
       "        obj[key] = original[key]\n",
       "    return obj;\n",
       "  }, {});\n",
       "}\n",
       "\n",
       "mpl.figure.prototype.mouse_event = function(event, name) {\n",
       "    var canvas_pos = mpl.findpos(event)\n",
       "\n",
       "    if (name === 'button_press')\n",
       "    {\n",
       "        this.canvas.focus();\n",
       "        this.canvas_div.focus();\n",
       "    }\n",
       "\n",
       "    var x = canvas_pos.x * mpl.ratio;\n",
       "    var y = canvas_pos.y * mpl.ratio;\n",
       "\n",
       "    this.send_message(name, {x: x, y: y, button: event.button,\n",
       "                             step: event.step,\n",
       "                             guiEvent: simpleKeys(event)});\n",
       "\n",
       "    /* This prevents the web browser from automatically changing to\n",
       "     * the text insertion cursor when the button is pressed.  We want\n",
       "     * to control all of the cursor setting manually through the\n",
       "     * 'cursor' event from matplotlib */\n",
       "    event.preventDefault();\n",
       "    return false;\n",
       "}\n",
       "\n",
       "mpl.figure.prototype._key_event_extra = function(event, name) {\n",
       "    // Handle any extra behaviour associated with a key event\n",
       "}\n",
       "\n",
       "mpl.figure.prototype.key_event = function(event, name) {\n",
       "\n",
       "    // Prevent repeat events\n",
       "    if (name == 'key_press')\n",
       "    {\n",
       "        if (event.which === this._key)\n",
       "            return;\n",
       "        else\n",
       "            this._key = event.which;\n",
       "    }\n",
       "    if (name == 'key_release')\n",
       "        this._key = null;\n",
       "\n",
       "    var value = '';\n",
       "    if (event.ctrlKey && event.which != 17)\n",
       "        value += \"ctrl+\";\n",
       "    if (event.altKey && event.which != 18)\n",
       "        value += \"alt+\";\n",
       "    if (event.shiftKey && event.which != 16)\n",
       "        value += \"shift+\";\n",
       "\n",
       "    value += 'k';\n",
       "    value += event.which.toString();\n",
       "\n",
       "    this._key_event_extra(event, name);\n",
       "\n",
       "    this.send_message(name, {key: value,\n",
       "                             guiEvent: simpleKeys(event)});\n",
       "    return false;\n",
       "}\n",
       "\n",
       "mpl.figure.prototype.toolbar_button_onclick = function(name) {\n",
       "    if (name == 'download') {\n",
       "        this.handle_save(this, null);\n",
       "    } else {\n",
       "        this.send_message(\"toolbar_button\", {name: name});\n",
       "    }\n",
       "};\n",
       "\n",
       "mpl.figure.prototype.toolbar_button_onmouseover = function(tooltip) {\n",
       "    this.message.textContent = tooltip;\n",
       "};\n",
       "mpl.toolbar_items = [[\"Home\", \"Reset original view\", \"fa fa-home icon-home\", \"home\"], [\"Back\", \"Back to previous view\", \"fa fa-arrow-left icon-arrow-left\", \"back\"], [\"Forward\", \"Forward to next view\", \"fa fa-arrow-right icon-arrow-right\", \"forward\"], [\"\", \"\", \"\", \"\"], [\"Pan\", \"Pan axes with left mouse, zoom with right\", \"fa fa-arrows icon-move\", \"pan\"], [\"Zoom\", \"Zoom to rectangle\", \"fa fa-square-o icon-check-empty\", \"zoom\"], [\"\", \"\", \"\", \"\"], [\"Download\", \"Download plot\", \"fa fa-floppy-o icon-save\", \"download\"]];\n",
       "\n",
       "mpl.extensions = [\"eps\", \"pdf\", \"png\", \"ps\", \"raw\", \"svg\"];\n",
       "\n",
       "mpl.default_extension = \"png\";var comm_websocket_adapter = function(comm) {\n",
       "    // Create a \"websocket\"-like object which calls the given IPython comm\n",
       "    // object with the appropriate methods. Currently this is a non binary\n",
       "    // socket, so there is still some room for performance tuning.\n",
       "    var ws = {};\n",
       "\n",
       "    ws.close = function() {\n",
       "        comm.close()\n",
       "    };\n",
       "    ws.send = function(m) {\n",
       "        //console.log('sending', m);\n",
       "        comm.send(m);\n",
       "    };\n",
       "    // Register the callback with on_msg.\n",
       "    comm.on_msg(function(msg) {\n",
       "        //console.log('receiving', msg['content']['data'], msg);\n",
       "        // Pass the mpl event to the overridden (by mpl) onmessage function.\n",
       "        ws.onmessage(msg['content']['data'])\n",
       "    });\n",
       "    return ws;\n",
       "}\n",
       "\n",
       "mpl.mpl_figure_comm = function(comm, msg) {\n",
       "    // This is the function which gets called when the mpl process\n",
       "    // starts-up an IPython Comm through the \"matplotlib\" channel.\n",
       "\n",
       "    var id = msg.content.data.id;\n",
       "    // Get hold of the div created by the display call when the Comm\n",
       "    // socket was opened in Python.\n",
       "    var element = $(\"#\" + id);\n",
       "    var ws_proxy = comm_websocket_adapter(comm)\n",
       "\n",
       "    function ondownload(figure, format) {\n",
       "        window.open(figure.imageObj.src);\n",
       "    }\n",
       "\n",
       "    var fig = new mpl.figure(id, ws_proxy,\n",
       "                           ondownload,\n",
       "                           element.get(0));\n",
       "\n",
       "    // Call onopen now - mpl needs it, as it is assuming we've passed it a real\n",
       "    // web socket which is closed, not our websocket->open comm proxy.\n",
       "    ws_proxy.onopen();\n",
       "\n",
       "    fig.parent_element = element.get(0);\n",
       "    fig.cell_info = mpl.find_output_cell(\"<div id='\" + id + \"'></div>\");\n",
       "    if (!fig.cell_info) {\n",
       "        console.error(\"Failed to find cell for figure\", id, fig);\n",
       "        return;\n",
       "    }\n",
       "\n",
       "    var output_index = fig.cell_info[2]\n",
       "    var cell = fig.cell_info[0];\n",
       "\n",
       "};\n",
       "\n",
       "mpl.figure.prototype.handle_close = function(fig, msg) {\n",
       "    var width = fig.canvas.width/mpl.ratio\n",
       "    fig.root.unbind('remove')\n",
       "\n",
       "    // Update the output cell to use the data from the current canvas.\n",
       "    fig.push_to_output();\n",
       "    var dataURL = fig.canvas.toDataURL();\n",
       "    // Re-enable the keyboard manager in IPython - without this line, in FF,\n",
       "    // the notebook keyboard shortcuts fail.\n",
       "    IPython.keyboard_manager.enable()\n",
       "    $(fig.parent_element).html('<img src=\"' + dataURL + '\" width=\"' + width + '\">');\n",
       "    fig.close_ws(fig, msg);\n",
       "}\n",
       "\n",
       "mpl.figure.prototype.close_ws = function(fig, msg){\n",
       "    fig.send_message('closing', msg);\n",
       "    // fig.ws.close()\n",
       "}\n",
       "\n",
       "mpl.figure.prototype.push_to_output = function(remove_interactive) {\n",
       "    // Turn the data on the canvas into data in the output cell.\n",
       "    var width = this.canvas.width/mpl.ratio\n",
       "    var dataURL = this.canvas.toDataURL();\n",
       "    this.cell_info[1]['text/html'] = '<img src=\"' + dataURL + '\" width=\"' + width + '\">';\n",
       "}\n",
       "\n",
       "mpl.figure.prototype.updated_canvas_event = function() {\n",
       "    // Tell IPython that the notebook contents must change.\n",
       "    IPython.notebook.set_dirty(true);\n",
       "    this.send_message(\"ack\", {});\n",
       "    var fig = this;\n",
       "    // Wait a second, then push the new image to the DOM so\n",
       "    // that it is saved nicely (might be nice to debounce this).\n",
       "    setTimeout(function () { fig.push_to_output() }, 1000);\n",
       "}\n",
       "\n",
       "mpl.figure.prototype._init_toolbar = function() {\n",
       "    var fig = this;\n",
       "\n",
       "    var nav_element = $('<div/>');\n",
       "    nav_element.attr('style', 'width: 100%');\n",
       "    this.root.append(nav_element);\n",
       "\n",
       "    // Define a callback function for later on.\n",
       "    function toolbar_event(event) {\n",
       "        return fig.toolbar_button_onclick(event['data']);\n",
       "    }\n",
       "    function toolbar_mouse_event(event) {\n",
       "        return fig.toolbar_button_onmouseover(event['data']);\n",
       "    }\n",
       "\n",
       "    for(var toolbar_ind in mpl.toolbar_items){\n",
       "        var name = mpl.toolbar_items[toolbar_ind][0];\n",
       "        var tooltip = mpl.toolbar_items[toolbar_ind][1];\n",
       "        var image = mpl.toolbar_items[toolbar_ind][2];\n",
       "        var method_name = mpl.toolbar_items[toolbar_ind][3];\n",
       "\n",
       "        if (!name) { continue; };\n",
       "\n",
       "        var button = $('<button class=\"btn btn-default\" href=\"#\" title=\"' + name + '\"><i class=\"fa ' + image + ' fa-lg\"></i></button>');\n",
       "        button.click(method_name, toolbar_event);\n",
       "        button.mouseover(tooltip, toolbar_mouse_event);\n",
       "        nav_element.append(button);\n",
       "    }\n",
       "\n",
       "    // Add the status bar.\n",
       "    var status_bar = $('<span class=\"mpl-message\" style=\"text-align:right; float: right;\"/>');\n",
       "    nav_element.append(status_bar);\n",
       "    this.message = status_bar[0];\n",
       "\n",
       "    // Add the close button to the window.\n",
       "    var buttongrp = $('<div class=\"btn-group inline pull-right\"></div>');\n",
       "    var button = $('<button class=\"btn btn-mini btn-primary\" href=\"#\" title=\"Stop Interaction\"><i class=\"fa fa-power-off icon-remove icon-large\"></i></button>');\n",
       "    button.click(function (evt) { fig.handle_close(fig, {}); } );\n",
       "    button.mouseover('Stop Interaction', toolbar_mouse_event);\n",
       "    buttongrp.append(button);\n",
       "    var titlebar = this.root.find($('.ui-dialog-titlebar'));\n",
       "    titlebar.prepend(buttongrp);\n",
       "}\n",
       "\n",
       "mpl.figure.prototype._root_extra_style = function(el){\n",
       "    var fig = this\n",
       "    el.on(\"remove\", function(){\n",
       "\tfig.close_ws(fig, {});\n",
       "    });\n",
       "}\n",
       "\n",
       "mpl.figure.prototype._canvas_extra_style = function(el){\n",
       "    // this is important to make the div 'focusable\n",
       "    el.attr('tabindex', 0)\n",
       "    // reach out to IPython and tell the keyboard manager to turn it's self\n",
       "    // off when our div gets focus\n",
       "\n",
       "    // location in version 3\n",
       "    if (IPython.notebook.keyboard_manager) {\n",
       "        IPython.notebook.keyboard_manager.register_events(el);\n",
       "    }\n",
       "    else {\n",
       "        // location in version 2\n",
       "        IPython.keyboard_manager.register_events(el);\n",
       "    }\n",
       "\n",
       "}\n",
       "\n",
       "mpl.figure.prototype._key_event_extra = function(event, name) {\n",
       "    var manager = IPython.notebook.keyboard_manager;\n",
       "    if (!manager)\n",
       "        manager = IPython.keyboard_manager;\n",
       "\n",
       "    // Check for shift+enter\n",
       "    if (event.shiftKey && event.which == 13) {\n",
       "        this.canvas_div.blur();\n",
       "        // select the cell after this one\n",
       "        var index = IPython.notebook.find_cell_index(this.cell_info[0]);\n",
       "        IPython.notebook.select(index + 1);\n",
       "    }\n",
       "}\n",
       "\n",
       "mpl.figure.prototype.handle_save = function(fig, msg) {\n",
       "    fig.ondownload(fig, null);\n",
       "}\n",
       "\n",
       "\n",
       "mpl.find_output_cell = function(html_output) {\n",
       "    // Return the cell and output element which can be found *uniquely* in the notebook.\n",
       "    // Note - this is a bit hacky, but it is done because the \"notebook_saving.Notebook\"\n",
       "    // IPython event is triggered only after the cells have been serialised, which for\n",
       "    // our purposes (turning an active figure into a static one), is too late.\n",
       "    var cells = IPython.notebook.get_cells();\n",
       "    var ncells = cells.length;\n",
       "    for (var i=0; i<ncells; i++) {\n",
       "        var cell = cells[i];\n",
       "        if (cell.cell_type === 'code'){\n",
       "            for (var j=0; j<cell.output_area.outputs.length; j++) {\n",
       "                var data = cell.output_area.outputs[j];\n",
       "                if (data.data) {\n",
       "                    // IPython >= 3 moved mimebundle to data attribute of output\n",
       "                    data = data.data;\n",
       "                }\n",
       "                if (data['text/html'] == html_output) {\n",
       "                    return [cell, data, j];\n",
       "                }\n",
       "            }\n",
       "        }\n",
       "    }\n",
       "}\n",
       "\n",
       "// Register the function which deals with the matplotlib target/channel.\n",
       "// The kernel may be null if the page has been refreshed.\n",
       "if (IPython.notebook.kernel != null) {\n",
       "    IPython.notebook.kernel.comm_manager.register_target('matplotlib', mpl.mpl_figure_comm);\n",
       "}\n"
      ],
      "text/plain": [
       "<IPython.core.display.Javascript object>"
      ]
     },
     "metadata": {},
     "output_type": "display_data"
    },
    {
     "data": {
      "text/html": [
       "<img src=\"data:image/png;base64,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\" width=\"640\">"
      ],
      "text/plain": [
       "<IPython.core.display.HTML object>"
      ]
     },
     "metadata": {},
     "output_type": "display_data"
    }
   ],
   "source": [
    "%matplotlib notebook\n",
    "plot_V_and_I(recorded_data)"
   ]
  },
  {
   "cell_type": "markdown",
   "metadata": {},
   "source": [
    "#### 4. Plot the single action potential\n",
    "\n",
    "Set `subsample_start` and `subsample_end` to the start and end times of your single action potential. The code will use these times to extract the single action potential data, save it to a variable called`single_ap`, and plot it."
   ]
  },
  {
   "cell_type": "code",
   "execution_count": 14,
   "metadata": {
    "scrolled": false
   },
   "outputs": [
    {
     "data": {
      "image/png": "[encoded data removed]",
      "text/plain": [
       "<Figure size 432x288 with 2 Axes>"
      ]
     },
     "metadata": {
      "needs_background": "light"
     },
     "output_type": "display_data"
    }
   ],
   "source": [
    "subsample_start=773.8\n",
    "subsample_end=774.4\n",
    "single_ap=subsample_data(recorded_data,subsample_start,subsample_end)\n",
    "\n",
    "%matplotlib inline\n",
    "plot_V_and_I(single_ap)"
   ]
  },
  {
   "cell_type": "markdown",
   "metadata": {},
   "source": [
    "#### 5. Save the action potential\n",
    "\n",
    "The code below will save the current action potential to a file with the following path:\n",
    "\n",
    "```\n",
    "./data/{RTXI_FILENAME}/sap_{NUMBER}_qq_{LABEL}.csv\n",
    "```\n",
    "\n",
    "The bracketed, all-caps words in this path may vary. So what do they mean:\n",
    "- `{RTXI_FILENAME}` &mdash; automatically extracted from the original `filename` variable.\n",
    "- `{NUMBER}` &mdash; automatically set based on the number of action potentials that have been saved for the given dataset. The first action potential is set to 1.\n",
    "- `{LABEL}` &mdash; This is manually set by changing the `label` variable. You do not need to set `{LABEL}`. By default it is left blank. It's purpose is so the user can create some reminder for themselves."
   ]
  },
  {
   "cell_type": "code",
   "execution_count": null,
   "metadata": {
    "scrolled": false
   },
   "outputs": [],
   "source": [
    "label=''\n",
    "is_returned=False\n",
    "save_SAP_to_csv(filename,single_ap,is_returned,label)"
   ]
  },
  {
   "cell_type": "markdown",
   "metadata": {},
   "source": [
    "#### 6. Plot all action potentials\n",
    "\n",
    "The `plot_all_aps()` function below will plot all APs that are saved to the `./data/{RTXI_FILENAME}/` folder."
   ]
  },
  {
   "cell_type": "code",
   "execution_count": null,
   "metadata": {
    "scrolled": false
   },
   "outputs": [],
   "source": [
    "plot_all_aps(filename)"
   ]
  },
  {
   "cell_type": "markdown",
   "metadata": {},
   "source": [
    "#### 7. Delete saved action potentials\n",
    "\n",
    "If you want to delete the action potentials that you saved, navigate to `./data/{RTXI_FILENAME}/` and select the files you would like to delete."
   ]
  },
  {
   "cell_type": "markdown",
   "metadata": {},
   "source": [
    "#### 8. Get information on the data\n",
    "\n",
    "The first block of code will create a DataFrame with lots of usefull information on the entire data set. If you've already run this code on the current data set, you can lode the dataframe with the second block of code. The data table will be saved to the variable `ap_features`. It will also be saved to a new file in the **data** folder. Change `filename` to the what you would like the new file to be named."
   ]
  },
  {
   "cell_type": "code",
   "execution_count": null,
   "metadata": {},
   "outputs": [],
   "source": [
    "filename = 'trial_3_data'\n",
    "ap_features = get_ap_features(recorded_data, filename)"
   ]
  },
  {
   "cell_type": "code",
   "execution_count": null,
   "metadata": {},
   "outputs": [],
   "source": [
    "filename = 'trial_3_data'\n",
    "ap_features = load_ap_features(filename)"
   ]
  },
  {
   "cell_type": "markdown",
   "metadata": {},
   "source": [
    "#### 9. Get classes\n",
    "\n",
    "After creating the data table, you can use it to find what kinds of action potentials are in your data. The code below will tell you how many APs of each class are in your data."
   ]
  },
  {
   "cell_type": "code",
   "execution_count": null,
   "metadata": {},
   "outputs": [],
   "source": [
    "class_tags = get_class_tags(recorded_data, ap_features, True)"
   ]
  },
  {
   "cell_type": "markdown",
   "metadata": {},
   "source": [
    "#### 10. Get all single action potentials\n",
    "\n",
    "If you already have the data table with information on every action potential, you can quickly get a list of the DataFrame of every action potential with the first code block below. If you haven't ran the above code, you can still get this list with the `get_all_saps` function. The list will be saved to the variable `all_saps`."
   ]
  },
  {
   "cell_type": "code",
   "execution_count": null,
   "metadata": {},
   "outputs": [],
   "source": [
    "ap_data = recorded_data\n",
    "data_table = ap_features\n",
    "all_saps = get_saps_from_data_table(ap_data, data_table)"
   ]
  },
  {
   "cell_type": "code",
   "execution_count": null,
   "metadata": {},
   "outputs": [],
   "source": [
    "all_saps = get_all_saps(recorded_data)"
   ]
  },
  {
   "cell_type": "markdown",
   "metadata": {},
   "source": [
    "#### 11. Find single action potentials\n",
    "\n",
    "The code below will find single action potentials for you and save them to the variable `sap` based on their location in the data. Set `ap_number` to the index of the action potential you would like to find. If you want the function to find a random action potential from anywhere in the data, set `ap_number` to `0`. If you want the function to plot the action potential, set `does_plot` to `True`."
   ]
  },
  {
   "cell_type": "code",
   "execution_count": null,
   "metadata": {
    "scrolled": true
   },
   "outputs": [],
   "source": [
    "ap_number = 11\n",
    "does_plot = True\n",
    "sap = get_single_ap(recorded_data, ap_number, does_plot)"
   ]
  },
  {
   "cell_type": "markdown",
   "metadata": {},
   "source": [
    "#### 12. Plot all single action potentials\n",
    "\n",
    "This function below will create an interactive plot with a slider. Set `ap_data` to the data it will plot. It can work with either the initial DataFrame, but it will work faster if you run `get_all_saps` first and plug in `all_aps`. Move the slider to plot different action potentials in the data."
   ]
  },
  {
   "cell_type": "code",
   "execution_count": null,
   "metadata": {},
   "outputs": [],
   "source": [
    "ap_data = all_saps\n",
    "plot_sap_slider(ap_data)"
   ]
  },
  {
   "cell_type": "markdown",
   "metadata": {},
   "source": [
    "#### 13. Smoothing single action potential data\n",
    "\n",
    "This function will smooth out the voltage in a dataframe with one action potential, and create a new dataframe called `smooth_ap`. Set `single_ap_data` to the dataframe you want it to smooth. The higher the `degree`, the smoother the end result will be. Set `does_plot` to `True` if you want it to plot the new dataframe."
   ]
  },
  {
   "cell_type": "code",
   "execution_count": null,
   "metadata": {
    "scrolled": false
   },
   "outputs": [],
   "source": [
    "degree = 100\n",
    "single_ap_data = sap\n",
    "does_plot = True\n",
    "smooth_ap = smooth_ap_data(single_ap_data, degree, does_plot)"
   ]
  },
  {
   "cell_type": "markdown",
   "metadata": {},
   "source": [
    "#### 14. Comparing two action potentials\n",
    "\n",
    "The code below will give you the amplitude and duration of two action potentials, and graph those action potentials beow. Set `first_ap` and `second_ap` to the two action potentials you would like to compare."
   ]
  },
  {
   "cell_type": "code",
   "execution_count": null,
   "metadata": {
    "scrolled": false
   },
   "outputs": [],
   "source": [
    "first_ap = sap\n",
    "second_ap = smooth_ap\n",
    "compare_aps(first_ap, second_ap)"
   ]
  },
  {
   "cell_type": "markdown",
   "metadata": {},
   "source": [
    "#### 15. Find the duration of action potentials\n",
    "\n",
    "This function finds the duration of a single action potential, and saves it to `apd`. To use it, set `single_ap_data` to the action potential data you want it to find the duration of. Set `depolarization_percent` and `repolarization_percent` to the percentages (in decimals) you want the duration to be measured from. If you don't want the function to plot the action potential and it's duration, set `does_plot` to `False`."
   ]
  },
  {
   "cell_type": "code",
   "execution_count": null,
   "metadata": {
    "scrolled": false
   },
   "outputs": [],
   "source": [
    "depolarization_percent = .5\n",
    "repolarization_percent = .9\n",
    "does_plot = True\n",
    "single_ap_data = sap\n",
    "apd = get_ap_duration(single_ap_data, depolarization_percent, repolarization_percent, does_plot)"
   ]
  },
  {
   "cell_type": "markdown",
   "metadata": {},
   "source": [
    "#### 16. Find the amplitude of action potentials\n",
    "\n",
    "\n",
    "This function finds the amplitude of a single action potential, and saves it to `apa`. To use it, set `single_ap_data` to the action potential data you want it to find the amplitude of. If you don't want the function to plot the action potential and it's amplitude, set `does_plot` to `False`."
   ]
  },
  {
   "cell_type": "code",
   "execution_count": null,
   "metadata": {
    "scrolled": false
   },
   "outputs": [],
   "source": [
    "single_ap_data = sap\n",
    "does_plot = True\n",
    "apa = get_ap_amplitude(single_ap_data, does_plot)"
   ]
  },
  {
   "cell_type": "markdown",
   "metadata": {},
   "source": [
    "#### 17. Find the shape factor of action potentials\n",
    "\n",
    "The code below finds the shape factor of an action potential and records it to `shape_factor`. Set `single_ap_data` to the action potential you want the shape factor of. If you don't want the function to plot the action potential and it's shape factor, set `does_plot` to `False`."
   ]
  },
  {
   "cell_type": "code",
   "execution_count": null,
   "metadata": {
    "scrolled": false
   },
   "outputs": [],
   "source": [
    "single_ap_data = sap\n",
    "does_plot = True\n",
    "shape_factor = get_ap_shape_factor(single_ap_data, does_plot)"
   ]
  },
  {
   "cell_type": "markdown",
   "metadata": {},
   "source": [
    "#### 18. Find the maximum increase velocity of an action potential\n",
    "\n",
    "This function below will find the maximum increase velocity of an action potential and save it to the variable `vmax`. Set `single_ap_data` to the single action potential it will find the maximum velocity of. If you don't want the function to plot the action potential and it's maximum increase velocity, set `does_plot` to `False`."
   ]
  },
  {
   "cell_type": "code",
   "execution_count": null,
   "metadata": {
    "scrolled": false
   },
   "outputs": [],
   "source": [
    "single_ap_data = sap\n",
    "does_plot = True\n",
    "vmax = get_slope(single_ap_data, does_plot)"
   ]
  },
  {
   "cell_type": "markdown",
   "metadata": {},
   "source": [
    "#### 19. Find all cycle lengths\n",
    "\n",
    "The code below will search through the entire data set and create a list called `cycle_lengths` of all the cycle lengths of the action potentials. If you don't want it to make a graph of the cycle lengths, set `does_plot` to `False`."
   ]
  },
  {
   "cell_type": "code",
   "execution_count": 2,
   "metadata": {
    "scrolled": false
   },
   "outputs": [
    {
     "ename": "NameError",
     "evalue": "name 'get_cycle_lengths' is not defined",
     "output_type": "error",
     "traceback": [
      "\u001b[1;31m---------------------------------------------------------------------------\u001b[0m",
      "\u001b[1;31mNameError\u001b[0m                                 Traceback (most recent call last)",
      "\u001b[1;32m<ipython-input-2-2fbe0ee6a417>\u001b[0m in \u001b[0;36m<module>\u001b[1;34m\u001b[0m\n\u001b[0;32m      1\u001b[0m \u001b[0mdoes_plot\u001b[0m \u001b[1;33m=\u001b[0m \u001b[1;32mTrue\u001b[0m\u001b[1;33m\u001b[0m\u001b[1;33m\u001b[0m\u001b[0m\n\u001b[1;32m----> 2\u001b[1;33m \u001b[0mcycle_lengths\u001b[0m \u001b[1;33m=\u001b[0m \u001b[0mget_cycle_lengths\u001b[0m\u001b[1;33m(\u001b[0m\u001b[0mrecorded_data\u001b[0m\u001b[1;33m,\u001b[0m \u001b[0mdoes_plot\u001b[0m\u001b[1;33m)\u001b[0m\u001b[1;33m\u001b[0m\u001b[1;33m\u001b[0m\u001b[0m\n\u001b[0m",
      "\u001b[1;31mNameError\u001b[0m: name 'get_cycle_lengths' is not defined"
     ]
    }
   ],
   "source": [
    "does_plot = True\n",
    "cycle_lengths = get_cycle_lengths(recorded_data, does_plot)"
   ]
  },
  {
   "cell_type": "markdown",
   "metadata": {},
   "source": [
    "#### 20. Find all action potential durations\n",
    "\n",
    "This code will search through all of the data and make a list called `all_apds` of the duration of every action potential. Set `depolarization_percent` and `repolarization_percent` to the percentages (in decimals) you want the duration to be measured from. If you want a graph of the durations, set `does_plot` to `True`. You need to run `get_all_saps` before you run this function."
   ]
  },
  {
   "cell_type": "code",
   "execution_count": null,
   "metadata": {
    "scrolled": false
   },
   "outputs": [],
   "source": [
    "depolarization_percent = .5\n",
    "repolarization_percent = .9\n",
    "does_plot = True\n",
    "all_apds = get_all_apds(all_saps, depolarization_percent, repolarization_percent, True)"
   ]
  },
  {
   "cell_type": "markdown",
   "metadata": {},
   "source": [
    "#### 21. Get APDn - APDn+1\n",
    "\n",
    "The code below will create a list called `apdn_apdn1` of all the action potential durations compared to the following action potential duration. Set `depolarization_percent` and `repolarization_percent` to the percentages (in decimals) you want the duration to be measured from. If you want a graph of the durations, set `does_plot` to `True`. You need to run `get_all_saps` before you run this function."
   ]
  },
  {
   "cell_type": "code",
   "execution_count": null,
   "metadata": {},
   "outputs": [],
   "source": [
    "depolarization_percent = .5\n",
    "repolarization_percent = .9\n",
    "does_plot = True\n",
    "apdn_apdn1 = get_apdn_apdn1(all_saps, depolarization_percent, repolarization_percent, does_plot)"
   ]
  },
  {
   "cell_type": "markdown",
   "metadata": {},
   "source": [
    "#### 22. Find all action potential amplitudes\n",
    "\n",
    "This code will search through all of the data and make a list called `all_apas` of the amplitude of every action potential. If you want a graph of the amplitudes, set `does_plot` to `True`. You need to run `get_all_saps` before this function."
   ]
  },
  {
   "cell_type": "code",
   "execution_count": null,
   "metadata": {
    "scrolled": false
   },
   "outputs": [],
   "source": [
    "does_plot = True\n",
    "all_apas = get_all_apas(all_saps, does_plot)"
   ]
  },
  {
   "cell_type": "markdown",
   "metadata": {},
   "source": [
    "#### 23. Find all action potential shape factors\n",
    "\n",
    "This code will search through all of the data and make a list called `all_sfs` of the shape factor of every action potential. If you want a graph of the shape factors, set `does_plot` to `True`. You need to run `get_all_saps` before this function."
   ]
  },
  {
   "cell_type": "code",
   "execution_count": null,
   "metadata": {},
   "outputs": [],
   "source": [
    "does_plot = True\n",
    "all_sfs = get_all_sfs(all_saps, does_plot)"
   ]
  },
  {
   "cell_type": "markdown",
   "metadata": {},
   "source": [
    "#### 24. Find all action potential maximum increase velocities\n",
    "\n",
    "This code will search through all of the data and make a list called `all_vmax` of the maximum increase velocity of every action potential. If you want a graph of the velocities, set `does_plot` to `True`. You need to run `get_all_saps` before this function."
   ]
  },
  {
   "cell_type": "code",
   "execution_count": null,
   "metadata": {},
   "outputs": [],
   "source": [
    "does_plot = True\n",
    "all_vmax = get_all_vmax(all_saps, does_plot)"
   ]
  },
  {
   "cell_type": "markdown",
   "metadata": {},
   "source": [
    "#### 25. Get all diastolic intervals\n",
    "\n",
    "This code below will find the diastolic intervals of every non-spontaneous action potential, and them to a list `di`. For spontaneous action potentials, the function will return `'NA'`.\n",
    "If you want a plot of the diastolic intervals, set `does_plot` to `True`."
   ]
  },
  {
   "cell_type": "code",
   "execution_count": null,
   "metadata": {},
   "outputs": [],
   "source": [
    "does_plot = True\n",
    "di = get_diastolic_intervals(recorded_data, does_plot)"
   ]
  },
  {
   "cell_type": "markdown",
   "metadata": {},
   "source": [
    "#### 26. Plot the restitution curve\n",
    "\n",
    "This function uses the DataFrame with information on every action potential to create a plot of the restitution curve across all of the data. The first code box uses the diastolic intervals preceding every action potential, while the second function uses the diastolic interval following each action potential."
   ]
  },
  {
   "cell_type": "code",
   "execution_count": null,
   "metadata": {},
   "outputs": [],
   "source": [
    "plot_restitution_curve(ap_features)"
   ]
  },
  {
   "cell_type": "code",
   "execution_count": null,
   "metadata": {},
   "outputs": [],
   "source": [
    "plot_restitution_curve_post_ap(ap_features)"
   ]
  },
  {
   "cell_type": "markdown",
   "metadata": {},
   "source": [
    "#### 27. Find a range of action potentials\n",
    "\n",
    "The code below will find a range of single action potentials for you and save it to the variable `ap_range`. To have the function return a list of single action potential Dataframes, set `split` to `True`. If you want one Dataframe containing all the action potentials in the range, set `split` to `False`. Set `first_ap` to the index of the first action potential in the range, and set `last_ap` to the last action potential you want in the range. If you don't want the function to plot the action potentials, set `does_plot` to `False`."
   ]
  },
  {
   "cell_type": "code",
   "execution_count": null,
   "metadata": {},
   "outputs": [],
   "source": [
    "split = False\n",
    "first_ap = 30\n",
    "last_ap = 40\n",
    "does_plot = True\n",
    "ap_range = get_ap_range(recorded_data, first_ap, last_ap, split, does_plot)"
   ]
  },
  {
   "cell_type": "markdown",
   "metadata": {},
   "source": [
    "#### 28. Find various action potentials\n",
    "\n",
    "The following code will find five various action potentials from different parts of the data, and save them all to the variable `vaps`. If you don't want it to plot the five action potentials, set `does_plot` to `False`."
   ]
  },
  {
   "cell_type": "code",
   "execution_count": null,
   "metadata": {},
   "outputs": [],
   "source": [
    "does_plot = True\n",
    "vaps = get_various_aps(recorded_data, does_plot)"
   ]
  }
 ],
 "metadata": {
  "kernelspec": {
   "display_name": "Python 3",
   "language": "python",
   "name": "python3"
  },
  "language_info": {
   "codemirror_mode": {
    "name": "ipython",
    "version": 3
   },
   "file_extension": ".py",
   "mimetype": "text/x-python",
   "name": "python",
   "nbconvert_exporter": "python",
   "pygments_lexer": "ipython3",
   "version": "3.7.3"
  }
 },
 "nbformat": 4,
 "nbformat_minor": 2
}
